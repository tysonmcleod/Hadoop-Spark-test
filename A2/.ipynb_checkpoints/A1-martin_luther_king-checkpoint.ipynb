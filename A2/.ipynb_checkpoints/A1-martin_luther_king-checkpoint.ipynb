{
 "cells": [
  {
   "cell_type": "code",
   "execution_count": 5,
   "metadata": {},
   "outputs": [],
   "source": [
    "from pyspark.sql import SparkSession\n",
    "\n",
    "# (8 cores, 16gb per machine) x 5 = 40 cores\n",
    "\n",
    "# New API\n",
    "spark_session = SparkSession\\\n",
    "        .builder\\\n",
    "        .master(\"spark://192.168.1.153:7077\") \\\n",
    "        .appName(\"martin_luther_king\")\\\n",
    "        .config(\"spark.dynamicAllocation.enabled\", True)\\\n",
    "        .config(\"spark.shuffle.service.enabled\", True)\\\n",
    "        .config(\"spark.dynamicAllocation.executorIdleTimeout\",\"30s\")\\\n",
    "        .config(\"spark.executor.cores\",4)\\\n",
    "        .getOrCreate()\n",
    "\n",
    "# Old API (RDD)\n",
    "spark_context = spark_session.sparkContext"
   ]
  },
  {
   "cell_type": "code",
   "execution_count": 22,
   "metadata": {},
   "outputs": [
    {
     "name": "stdout",
     "output_type": "stream",
     "text": [
      "Yes\n",
      "2\n",
      "3\n"
     ]
    }
   ],
   "source": [
    "def split_line(line):\n",
    "    return line.split('\\n')\n",
    "\n",
    "\n",
    "# A.1.1\n",
    "linesEN = spark_context.textFile(\"hdfs://192.168.1.153:9000/europarl/europarl-v7.sv-en.en\")\n",
    "\n",
    "# A.1.2\n",
    "linesSWE = spark_context.textFile(\"hdfs://192.168.1.153:9000/europarl/europarl-v7.sv-en.sv\")\n",
    "\n",
    "# A.1.3\n",
    "if(linesSWE.count() == linesEN.count()):\n",
    "    print(\"Yes\")\n",
    "\n",
    "# A.1.4\n",
    "# English partitions\n",
    "print(linesEN.getNumPartitions())\n",
    "\n",
    "# Swedish partitions\n",
    "print(linesSWE.getNumPartitions())"
   ]
  },
  {
   "cell_type": "code",
   "execution_count": 48,
   "metadata": {},
   "outputs": [
    {
     "name": "stdout",
     "output_type": "stream",
     "text": [
      "<class 'pyspark.rdd.PipelinedRDD'>\n"
     ]
    },
    {
     "data": {
      "text/plain": [
       "\"\\n# split space function \\ndef split_space(line):\\n    splitz = line.split('\\n')\\n    return splitz\\n\\n# split words english\\nsplit_english = 5\\n\\n# split words swedish\\nsplit_swedish = 5\\n\\n# A.2.2\\nprint(split_english.take(10))\\nprint(split_swedish.take(10))\\n\\n# A.2.3\\n\""
      ]
     },
     "execution_count": 48,
     "metadata": {},
     "output_type": "execute_result"
    }
   ],
   "source": [
    "# A.2.1\n",
    "# lower case function \n",
    "def lower_case(line):\n",
    "    lower = line.map(lambda x: x.lower())\n",
    "    return lower\n",
    "\n",
    "# lower case english\n",
    "lower_english = lower_case(linesEN)\n",
    "\n",
    "# lower case swedish\n",
    "lower_swedish = lower_case(linesSWE)\n",
    "\n",
    "# split space function \n",
    "def split_space(line):\n",
    "    splitz = line.split(' ')\n",
    "    return splitz\n",
    "\n",
    "\n",
    "\n",
    "# split words english\n",
    "split_english = split_space(lower_english)\n",
    "\n",
    "\n",
    "'''\n",
    "# split words swedish\n",
    "split_swedish = 5\n",
    "\n",
    "# A.2.2\n",
    "print(split_english.take(10))\n",
    "print(split_swedish.take(10))\n",
    "\n",
    "# A.2.3\n",
    "print(split_english.count())\n",
    "print(split_swedish.count())\n",
    "'''\n"
   ]
  },
  {
   "cell_type": "code",
   "execution_count": null,
   "metadata": {},
   "outputs": [],
   "source": [
    "# flat map [[1,2],[1,2,3]] = [1,2,1,2,3]"
   ]
  },
  {
   "cell_type": "code",
   "execution_count": null,
   "metadata": {},
   "outputs": [],
   "source": [
    "# release the cores for another application!\n",
    "# spark_context.stop()"
   ]
  }
 ],
 "metadata": {
  "kernelspec": {
   "display_name": "Python 3",
   "language": "python",
   "name": "python3"
  },
  "language_info": {
   "codemirror_mode": {
    "name": "ipython",
    "version": 3
   },
   "file_extension": ".py",
   "mimetype": "text/x-python",
   "name": "python",
   "nbconvert_exporter": "python",
   "pygments_lexer": "ipython3",
   "version": "3.6.7"
  }
 },
 "nbformat": 4,
 "nbformat_minor": 2
}

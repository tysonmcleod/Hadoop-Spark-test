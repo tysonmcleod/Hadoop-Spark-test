{
 "cells": [
  {
   "cell_type": "code",
   "execution_count": 5,
   "metadata": {},
   "outputs": [],
   "source": [
    "from pyspark.sql import SparkSession\n",
    "\n",
    "# (8 cores, 16gb per machine) x 5 = 40 cores\n",
    "\n",
    "# New API\n",
    "spark_session = SparkSession\\\n",
    "        .builder\\\n",
    "        .master(\"spark://192.168.1.153:7077\") \\\n",
    "        .appName(\"martin_luther_king\")\\\n",
    "        .config(\"spark.dynamicAllocation.enabled\", True)\\\n",
    "        .config(\"spark.shuffle.service.enabled\", True)\\\n",
    "        .config(\"spark.dynamicAllocation.executorIdleTimeout\",\"30s\")\\\n",
    "        .config(\"spark.executor.cores\",4)\\\n",
    "        .getOrCreate()\n",
    "\n",
    "# Old API (RDD)\n",
    "spark_context = spark_session.sparkContext"
   ]
  },
  {
   "cell_type": "code",
   "execution_count": 6,
   "metadata": {},
   "outputs": [
    {
     "name": "stdout",
     "output_type": "stream",
     "text": [
      "+-------------+-------------------+----------+--------+-----------+--------------+-----------------+----+----+----------+-----+--------------------+-----+------+--------------+---------------------+-----------+---------+---------+\n",
      "|Ticket number|         Issue Date|Issue time|Meter Id|Marked Time|RP State Plate|Plate Expiry Date| VIN|Make|Body Style|Color|            Location|Route|Agency|Violation code|Violation Description|Fine amount| Latitude|Longitude|\n",
      "+-------------+-------------------+----------+--------+-----------+--------------+-----------------+----+----+----------+-----+--------------------+-----+------+--------------+---------------------+-----------+---------+---------+\n",
      "|   1103341116|2015-12-21T00:00:00|      1251|    null|       null|            CA|           200304|null|HOND|        PA|   GY|     13147 WELBY WAY|01521|     1|        4000A1|   NO EVIDENCE OF REG|         50|    99999|    99999|\n",
      "|   1103700150|2015-12-21T00:00:00|      1435|    null|       null|            CA|           201512|null| GMC|        VN|   WH|       525 S MAIN ST| 1C51|     1|        4000A1|   NO EVIDENCE OF REG|         50|    99999|    99999|\n",
      "|   1104803000|2015-12-21T00:00:00|      2055|    null|       null|            CA|           201503|null|NISS|        PA|   BK|       200 WORLD WAY|  2R2|     2|          8939|           WHITE CURB|         58|6439997.9|1802686.4|\n",
      "|   1104820732|2015-12-26T00:00:00|      1515|    null|       null|            CA|             null|null|ACUR|        PA|   WH|       100 WORLD WAY| 2F11|     2|           000|               17104h|       null|6440041.1|1802686.2|\n",
      "|   1105461453|2015-09-15T00:00:00|       115|    null|       null|            CA|           200316|null|CHEV|        PA|   BK|  GEORGIA ST/OLYMPIC|1FB70|     1|         8069A| NO STOPPING/STANDING|         93|    99999|    99999|\n",
      "|   1106226590|2015-09-15T00:00:00|        19|    null|       null|            CA|           201507|null|CHEV|        VN|   GY|  SAN PEDRO S/O BOYD|1A35W|     1|        4000A1|   NO EVIDENCE OF REG|         50|    99999|    99999|\n",
      "|   1106500452|2015-12-17T00:00:00|      1710|    null|       null|            CA|           201605|null|MAZD|        PA|   BL|     SUNSET/ALVARADO|00217|     1|          8070| PARK IN GRID LOCK ZN|        163|    99999|    99999|\n",
      "|   1106500463|2015-12-17T00:00:00|      1710|    null|       null|            CA|           201602|null|TOYO|        PA|   BK|     SUNSET/ALVARADO|00217|     1|          8070| PARK IN GRID LOCK ZN|        163|    99999|    99999|\n",
      "|   1106506402|2015-12-22T00:00:00|       945|    null|       null|            CA|           201605|null|CHEV|        PA|   BR|      721 S WESTLAKE| 2A75|     1|        8069AA|     NO STOP/STAND AM|         93|    99999|    99999|\n",
      "|   1106506413|2015-12-22T00:00:00|      1100|    null|       null|            CA|           201701|null|NISS|        PA|   SI|     1159 HUNTLEY DR| 2A75|     1|        8069AA|     NO STOP/STAND AM|         93|    99999|    99999|\n",
      "|   1106506424|2015-12-22T00:00:00|      1100|    null|       null|            CA|           201511|null|FORD|        TR|   WH|     1159 HUNTLEY DR| 2A75|     1|        8069AA|     NO STOP/STAND AM|         93|    99999|    99999|\n",
      "|   1106506435|2015-12-22T00:00:00|      1105|    null|       null|            CA|           201701|null|CHRY|        PA|   GO|     1159 HUNTLEY DR| 2A75|     1|        8069AA|     NO STOP/STAND AM|         93|    99999|    99999|\n",
      "|   1106506446|2015-12-22T00:00:00|      1110|    null|       null|            CA|           201511|null| BMW|        PA|   BK|      1200 W MIRAMAR| 2A75|     1|        4000A1|   NO EVIDENCE OF REG|         50|    99999|    99999|\n",
      "|   1106549754|2015-12-15T00:00:00|       825|    null|       null|            CA|           201607|null|PTRB|        TR|   BK|           4TH/STATE| CM96|     1|         8069A| NO STOPPING/STANDING|         93|    99999|    99999|\n",
      "|   1107179581|2015-12-27T00:00:00|      1055|    null|       null|            CA|           201605|null|TOYO|        PA|   BK|3100 N HOLLYRIDGE DR| null|    54|         8058L|         PREF PARKING|         68|    99999|    99999|\n",
      "|   1107179592|2015-12-27T00:00:00|      1200|    null|       null|            CA|           201602|null|MBNZ|        PA|   BK|   3115 N BERENDO DR| null|    54|         8058L|         PREF PARKING|         68|    99999|    99999|\n",
      "|   1107179603|2015-12-27T00:00:00|      1400|    null|       null|            CA|           201611|null|NISS|        PA|   WH| 3100 N BEACHWOOD DR| null|    54|         8058L|         PREF PARKING|         68|    99999|    99999|\n",
      "|   1107539823|2015-09-16T00:00:00|      2120|    null|       null|            CA|           201502|null|NISS|        PA| null|      BLAINE/11TH PL|1FB95|     1|        4000A1|   NO EVIDENCE OF REG|         50|    99999|    99999|\n",
      "|   1107539834|2015-09-16T00:00:00|      1045|    null|       null|            CA|             null|null|CHEV|        PA|   BK|  1246 S FIGUEROA ST| 1L20|     1|        8069AP|     NO STOP/STAND PM|         93|    99999|    99999|\n",
      "|   1107780811|2015-12-22T00:00:00|      1102|    null|       null|            CA|           201606|null|HOND|        PA|   BK|       PLATA/RAMPART|  2A1|     1|         8069B|           NO PARKING|         73|    99999|    99999|\n",
      "+-------------+-------------------+----------+--------+-----------+--------------+-----------------+----+----+----------+-----+--------------------+-----+------+--------------+---------------------+-----------+---------+---------+\n",
      "only showing top 20 rows\n",
      "\n"
     ]
    }
   ],
   "source": [
    "# 1: Load the CSV file from HDFS and call show to verify the data is loaded correctly\n",
    "\n",
    "data_frame = spark_session.read\\\n",
    "    .option(\"header\", \"true\")\\\n",
    "    .csv('hdfs://192.168.1.153:9000/parking-citations.csv')\\\n",
    "    .cache()\n",
    "\n",
    "data_frame.show()\n"
   ]
  },
  {
   "cell_type": "code",
   "execution_count": 7,
   "metadata": {},
   "outputs": [
    {
     "name": "stdout",
     "output_type": "stream",
     "text": [
      "root\n",
      " |-- Ticket number: string (nullable = true)\n",
      " |-- Issue Date: string (nullable = true)\n",
      " |-- Issue time: string (nullable = true)\n",
      " |-- Meter Id: string (nullable = true)\n",
      " |-- Marked Time: string (nullable = true)\n",
      " |-- RP State Plate: string (nullable = true)\n",
      " |-- Plate Expiry Date: string (nullable = true)\n",
      " |-- VIN: string (nullable = true)\n",
      " |-- Make: string (nullable = true)\n",
      " |-- Body Style: string (nullable = true)\n",
      " |-- Color: string (nullable = true)\n",
      " |-- Location: string (nullable = true)\n",
      " |-- Route: string (nullable = true)\n",
      " |-- Agency: string (nullable = true)\n",
      " |-- Violation code: string (nullable = true)\n",
      " |-- Violation Description: string (nullable = true)\n",
      " |-- Fine amount: string (nullable = true)\n",
      " |-- Latitude: string (nullable = true)\n",
      " |-- Longitude: string (nullable = true)\n",
      "\n"
     ]
    }
   ],
   "source": [
    "# 2: Print the schema for the data frame \n",
    "data_frame.printSchema()"
   ]
  },
  {
   "cell_type": "code",
   "execution_count": 8,
   "metadata": {},
   "outputs": [
    {
     "data": {
      "text/plain": [
       "9257460"
      ]
     },
     "execution_count": 8,
     "metadata": {},
     "output_type": "execute_result"
    }
   ],
   "source": [
    "# 3: count the number of rows in the csv file\n",
    "data_frame.count()"
   ]
  },
  {
   "cell_type": "code",
   "execution_count": 9,
   "metadata": {},
   "outputs": [
    {
     "data": {
      "text/plain": [
       "10"
      ]
     },
     "execution_count": 9,
     "metadata": {},
     "output_type": "execute_result"
    }
   ],
   "source": [
    "# 4: count the number of partitions in the underlying RDD\n",
    "data_frame.rdd.getNumPartitions()"
   ]
  },
  {
   "cell_type": "code",
   "execution_count": 10,
   "metadata": {},
   "outputs": [
    {
     "data": {
      "text/plain": [
       "['Ticket number',\n",
       " 'Issue Date',\n",
       " 'Issue time',\n",
       " 'Meter Id',\n",
       " 'Marked Time',\n",
       " 'RP State Plate',\n",
       " 'Plate Expiry Date',\n",
       " 'Make',\n",
       " 'Body Style',\n",
       " 'Color',\n",
       " 'Location',\n",
       " 'Route',\n",
       " 'Agency',\n",
       " 'Violation code',\n",
       " 'Violation Description',\n",
       " 'Fine amount']"
      ]
     },
     "execution_count": 10,
     "metadata": {},
     "output_type": "execute_result"
    }
   ],
   "source": [
    "# 5: drop the columns VIN, Latitude, Longitude\n",
    "drop_vin_lat_long = data_frame.drop(\"VIN\", \"Latitude\", \"Longitude\")\n",
    "drop_vin_lat_long.columns"
   ]
  },
  {
   "cell_type": "code",
   "execution_count": 20,
   "metadata": {},
   "outputs": [
    {
     "name": "stdout",
     "output_type": "stream",
     "text": [
      "+-------------+-------------------+----------+--------+-----------+--------------+-----------------+----+----------+-----+------------------+-----+------+--------------+---------------------+-----------+\n",
      "|Ticket number|         Issue Date|Issue time|Meter Id|Marked Time|RP State Plate|Plate Expiry Date|Make|Body Style|Color|          Location|Route|Agency|Violation code|Violation Description|Fine amount|\n",
      "+-------------+-------------------+----------+--------+-----------+--------------+-----------------+----+----------+-----+------------------+-----+------+--------------+---------------------+-----------+\n",
      "|   1112999020|2016-02-27T00:00:00|       335|    null|       null|            CA|           201605|CHRY|        PA|   WH|     6200 S AVALON|13A75|     1|           558|               8755**|      505.0|\n",
      "|   1109909205|2014-12-24T00:00:00|       110|    null|       null|            CA|           201410|HOND|      null|   BK|6500 S AVALON BLVD| 13E3|     1|           558|               8755**|      505.0|\n",
      "|   1109909220|2014-12-24T00:00:00|       125|    null|       null|            CA|           201507|NISS|        PA|   BK|     617 E GAGE AV| 13E3|     1|           558|               8755**|      505.0|\n",
      "|   1109908925|2015-03-06T00:00:00|      2200|    null|       null|            CA|           201510|FORD|        PA|   RE|    1203 E 35TH ST| 13E3|     1|           558|               8755**|      505.0|\n",
      "|   1109908995|2015-03-07T00:00:00|      1220|    null|       null|            CA|           201510|FORD|        PA|   MA|    1203 E 35TH ST| 13E3|     1|           558|               8755**|      505.0|\n",
      "|   1109907271|2015-03-09T00:00:00|       610|    null|       null|            CA|           201510|FORD|        PA|   RE|    1201 E 35TH ST| 13E3|     1|           558|               8755**|      505.0|\n",
      "+-------------+-------------------+----------+--------+-----------+--------------+-----------------+----+----------+-----+------------------+-----+------+--------------+---------------------+-----------+\n",
      "\n"
     ]
    }
   ],
   "source": [
    "# 6: find the maximum fine amount, how many fines have this amount?\n",
    "\n",
    "# convert to float \n",
    "new_type_df = drop_vin_lat_long.withColumn(\"Fine amount\", drop_vin_lat_long[\"Fine amount\"].cast(\"float\"))\n",
    "\n",
    "# max fine amount\n",
    "xD = new_type_df.groupby().max('Fine amount').collect()[0].asDict()['max(Fine amount)']\n",
    "\n",
    "\n",
    "# fines with the max amount\n",
    "plz_work = new_type_df.filter(new_type_df['Fine amount'] == xD).show()\n",
    "\n",
    "# print the number of fines\n",
    "print(plz_work)\n",
   ]
  },
  {
   "cell_type": "code",
   "execution_count": 27,
   "metadata": {},
   "outputs": [
    {
     "name": "stdout",
     "output_type": "stream",
     "text": [
      "+----+-------+\n",
      "|Make|  count|\n",
      "+----+-------+\n",
      "|TOYT|1531949|\n",
      "|HOND|1043276|\n",
      "|FORD| 807498|\n",
      "|NISS| 662097|\n",
      "|CHEV| 631413|\n",
      "| BMW| 422916|\n",
      "|MERZ| 376830|\n",
      "|VOLK| 316002|\n",
      "|HYUN| 285286|\n",
      "|DODG| 271590|\n",
      "|LEXS| 263269|\n",
      "| KIA| 217795|\n",
      "|JEEP| 214965|\n",
      "|AUDI| 179718|\n",
      "|MAZD| 169811|\n",
      "|OTHR| 154376|\n",
      "| GMC| 132788|\n",
      "|INFI| 120340|\n",
      "|CHRY| 120317|\n",
      "|ACUR| 111265|\n",
      "+----+-------+\n",
      "\n"
     ]
    }
   ],
   "source": [
    "# 7: show the top 20 most frequent vehicle makes and their frequencies\n",
    "\n",
    "# select vehicle column and limit to top 20\n",
    "data_frame.groupBy(\"Make\").count().orderBy('count', ascending=False).limit(20).show()"
   ]
  },
  {
   "cell_type": "code",
   "execution_count": 47,
   "metadata": {},
   "outputs": [
    {
     "name": "stdout",
     "output_type": "stream",
     "text": [
      "+-----+----------+\n",
      "|Color|color_long|\n",
      "+-----+----------+\n",
      "|   GY|      Gray|\n",
      "|   WH|     White|\n",
      "|   BK|     Black|\n",
      "|   WH|     White|\n",
      "|   BK|     Black|\n",
      "|   GY|      Gray|\n",
      "|   BL|      Blue|\n",
      "|   BK|     Black|\n",
      "|   BR|     Brown|\n",
      "|   SI|    Silver|\n",
      "|   WH|     White|\n",
      "|   GO|      Gold|\n",
      "|   BK|     Black|\n",
      "|   BK|     Black|\n",
      "|   BK|     Black|\n",
      "|   BK|     Black|\n",
      "|   WH|     White|\n",
      "| null|      null|\n",
      "|   BK|     Black|\n",
      "|   BK|     Black|\n",
      "+-----+----------+\n",
      "only showing top 20 rows\n",
      "\n"
     ]
    }
   ],
   "source": [
    "# 8: Create a new column color long, mapping original colors to their corresponding values in the dictionaries\n",
    "from pyspark.sql.functions import udf\n",
    "from pyspark.sql.types import StringType\n",
    "\n",
    "\n",
    "COLORS = {\n",
    "'AL':'Aluminum', 'AM':'Amber', 'BG':'Beige', 'BK':'Black',\n",
    "'BL':'Blue', 'BN':'Brown', 'BR':'Brown', 'BZ':'Bronze',\n",
    "'CH':'Charcoal', 'DK':'Dark', 'GD':'Gold', 'GO':'Gold',\n",
    "'GN':'Green', 'GY':'Gray', 'GT':'Granite', 'IV':'Ivory',\n",
    "'LT':'Light', 'OL':'Olive', 'OR':'Orange', 'MR':'Maroon',\n",
    "'PK':'Pink', 'RD':'Red', 'RE':'Red', 'SI':'Silver', 'SL':'Silver',\n",
    "'SM':'Smoke', 'TN':'Tan', 'VT':'Violet', 'WT':'White',\n",
    "'WH':'White', 'YL':'Yellow', 'YE':'Yellow', 'UN':'Unknown'\n",
    "}\n",
    "\n",
    "def map_colors_plz(Color):\n",
    "    if Color in COLORS:\n",
    "        return COLORS[Color]\n",
    "    else:\n",
    "        return Color \n",
    "    \n",
    "# User-defined function. Input type is a string.\n",
    "udf_map_colors_plz = udf(map_colors_plz, StringType())\n",
    "\n",
    "data_frame_with_color_long = data_frame.withColumn(\"color_long\", udf_map_colors_plz(\"Color\"))\n",
    "\n",
    "data_frame_with_color_long.select('Color', 'color_long').show()\n"
   ]
  },
  {
   "cell_type": "code",
   "execution_count": 69,
   "metadata": {},
   "outputs": [
    {
     "name": "stdout",
     "output_type": "stream",
     "text": [
      "+----------+------+\n",
      "|color_long| count|\n",
      "+----------+------+\n",
      "|      Gray|346822|\n",
      "+----------+------+\n",
      "\n"
     ]
    }
   ],
   "source": [
    "# 9: Using new column, most frequent color value for TOYT\n",
    "most_freq_toyt = data_frame_with_color_long.filter(data_frame_with_color_long['Make'] == 'TOYT').groupBy('color_long').count().orderBy('count', ascending=False).limit(1).show()"
   ]
  },
  {
   "cell_type": "code",
   "execution_count": null,
   "metadata": {},
   "outputs": [],
   "source": []
  },
  {
   "cell_type": "code",
   "execution_count": null,
   "metadata": {},
   "outputs": [],
   "source": []
  }
 ],
 "metadata": {
  "kernelspec": {
   "display_name": "Python 3",
   "language": "python",
   "name": "python3"
  },
  "language_info": {
   "codemirror_mode": {
    "name": "ipython",
    "version": 3
   },
   "file_extension": ".py",
   "mimetype": "text/x-python",
   "name": "python",
   "nbconvert_exporter": "python",
   "pygments_lexer": "ipython3",
   "version": "3.6.7"
  }
 },
 "nbformat": 4,
 "nbformat_minor": 2
}
